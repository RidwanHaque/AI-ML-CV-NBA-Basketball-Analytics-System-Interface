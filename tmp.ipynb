{
 "cells": [
  {
   "cell_type": "markdown",
   "id": "27264231",
   "metadata": {},
   "source": [
    " create a dedicated virtual environment. This keeps your project's dependencies separate from your computer's global Python installation, which is a best practice."
   ]
  },
  {
   "cell_type": "code",
   "execution_count": 1,
   "id": "81015099",
   "metadata": {},
   "outputs": [],
   "source": [
    "import pandas as pd\n",
    "\n",
    "import numpy as np"
   ]
  },
  {
   "cell_type": "code",
   "execution_count": null,
   "id": "f2568812",
   "metadata": {},
   "outputs": [],
   "source": [
    "data = {\n",
    "    \"x1\": [1, np.nan, 3, 4, np.nan, np.nan, np.nan, np.nan, 8, 9],\n",
    "    \"y1\": [1, 2, 3, 4, np.nan, np.nan, np.nan, np.nan, 8, 9],\n",
    "    \"x2\": [1, 2, 3, 4, np.nan, np.nan, np.nan, np.nan, 8, 9],\n",
    "    \"y2\": [1, 2, 3, 4, np.nan, np.nan, np.nan, np.nan, 8, 9]\n",
    "}"
   ]
  },
  {
   "cell_type": "code",
   "execution_count": null,
   "id": "82c9a05d",
   "metadata": {},
   "outputs": [],
   "source": [
    "df = pd.DataFrame(data)"
   ]
  },
  {
   "cell_type": "code",
   "execution_count": null,
   "id": "224c94e6",
   "metadata": {},
   "outputs": [],
   "source": [
    "df.head(10)"
   ]
  },
  {
   "cell_type": "code",
   "execution_count": null,
   "id": "9998ce03",
   "metadata": {},
   "outputs": [],
   "source": [
    "df.interpolate()"
   ]
  }
 ],
 "metadata": {
  "kernelspec": {
   "display_name": "cv_env",
   "language": "python",
   "name": "python3"
  },
  "language_info": {
   "codemirror_mode": {
    "name": "ipython",
    "version": 3
   },
   "file_extension": ".py",
   "mimetype": "text/x-python",
   "name": "python",
   "nbconvert_exporter": "python",
   "pygments_lexer": "ipython3",
   "version": "3.11.9"
  }
 },
 "nbformat": 4,
 "nbformat_minor": 5
}
